{
 "cells": [
  {
   "cell_type": "code",
   "execution_count": 1,
   "metadata": {},
   "outputs": [],
   "source": [
    "#Importing Numpy\n",
    "\n",
    "import numpy as np"
   ]
  },
  {
   "cell_type": "code",
   "execution_count": 2,
   "metadata": {},
   "outputs": [],
   "source": [
    "#Randomly Selecting the variables\n",
    "\n",
    "p = 8\n",
    "g = 10\n",
    "h = 6\n",
    "sigma = 0.8\n",
    "np.random.seed(25)\n",
    "X = np.random.randint(100,size = p)\n",
    "Q = 8\n",
    "M = np.random.randint(100, size = Q)\n",
    "B = np.random.randint(100, size = Q)\n",
    "var = 0\n",
    "l=0\n",
    "n=8\n",
    "lambda1 = 0.2\n",
    "lambda2 = 0.3\n",
    "phai = 0"
   ]
  },
  {
   "cell_type": "code",
   "execution_count": 3,
   "metadata": {},
   "outputs": [
    {
     "name": "stdout",
     "output_type": "stream",
     "text": [
      "Output of Equation 1 is:668304.0\n"
     ]
    }
   ],
   "source": [
    "# EVALUATING EQUATION 1\n",
    "\n",
    "for q in range(Q):\n",
    "    l = M[q]*g*h*sigma*(np.multiply(B[q],X.transpose())+B[q])\n",
    "var = np.sum(l)\n",
    "print(\"Output of Equation 1 is:{}\".format(var))"
   ]
  },
  {
   "cell_type": "code",
   "execution_count": 4,
   "metadata": {},
   "outputs": [
    {
     "name": "stdout",
     "output_type": "stream",
     "text": [
      "Output of Equation 2 is:223580.76286826158\n"
     ]
    }
   ],
   "source": [
    "# EVALUATING EQUATION 2\n",
    "\n",
    "p1 = 1/sigma\n",
    "for q in range(2):\n",
    "    func = ((p1*var-np.multiply(B[q],X.transpose()))*(-0.5))**2\n",
    "    #func = np.exp(func)   overflow encountered runtime error\n",
    "    i = M[q]*p*func/(1.414*3.14)\n",
    "I=np.sum(i)\n",
    "I = np.log(I)\n",
    "for i in range(n):\n",
    "    I+=l\n",
    "I = (np.sum(I))/n\n",
    "\n",
    "for q in range(2):\n",
    "    phai = M[q]*B[q]/sigma\n",
    "    var1 = lambda1*phai\n",
    "\n",
    "\n",
    "for j in range(p):\n",
    "    I+=l\n",
    "var2 = lambda2*I\n",
    "var_2 = var1+var2\n",
    "out_2 = min(var_2)\n",
    "print(\"Output of Equation 2 is:{}\".format(out_2))"
   ]
  },
  {
   "cell_type": "code",
   "execution_count": 5,
   "metadata": {},
   "outputs": [
    {
     "name": "stdout",
     "output_type": "stream",
     "text": [
      "Output of Equation 3 is:609.7724792811409\n"
     ]
    }
   ],
   "source": [
    "# EVALUATING EQUATION 3\n",
    "\n",
    "Z=0\n",
    "tou = 1000\n",
    "for j in range(p):\n",
    "    Z = 1-(np.exp(phai/tou))\n",
    "var3 = lambda2*Z\n",
    "var_3 = var1+var3\n",
    "print(\"Output of Equation 3 is:{}\".format(var_3))"
   ]
  },
  {
   "cell_type": "code",
   "execution_count": 6,
   "metadata": {},
   "outputs": [
    {
     "name": "stdout",
     "output_type": "stream",
     "text": [
      "Output of Equation 4 is:[4930568.04288992 2245755.04458993 1771551.51482399 4026608.5755838\n",
      " 2267297.82287179 3551206.88482353 2707085.6349209  2534009.38645367]\n"
     ]
    }
   ],
   "source": [
    "# EVALUATING EQUATION 4\n",
    "for p in range(2):\n",
    "    func = ((p1*var-np.multiply(B[q],X.transpose()))*(-0.5))**2\n",
    "    var4 = M[q]*p*func/(1.414*3.14)\n",
    "var_4 = var4/(var3+var2)\n",
    "print(\"Output of Equation 4 is:{}\".format(var_4))"
   ]
  },
  {
   "cell_type": "code",
   "execution_count": 7,
   "metadata": {},
   "outputs": [
    {
     "name": "stdout",
     "output_type": "stream",
     "text": [
      "Output of Equation 5 is:[3.10885499e+11 3.07096620e+11 3.05275820e+11 3.10165133e+11\n",
      " 3.07161748e+11 3.09641756e+11 3.08269993e+11 3.07878620e+11]\n"
     ]
    }
   ],
   "source": [
    "# EVALUATING EQUATION 5\n",
    "for q in range(2):\n",
    "    func = ((p1*var-np.multiply(B[q],X.transpose()))*(-0.5))**2\n",
    "    var5 = M[q]*p*func/(3.14)\n",
    "var51 = lambda1*var5\n",
    "for i in range(p):\n",
    "    for q in range(2):\n",
    "        phai = M[q]*B[q]/sigma\n",
    "        var52 = lambda1*phai\n",
    "var_5 = var51+var52\n",
    "print(\"Output of Equation 5 is:{}\".format(var_5))"
   ]
  },
  {
   "cell_type": "code",
   "execution_count": 8,
   "metadata": {},
   "outputs": [
    {
     "name": "stdout",
     "output_type": "stream",
     "text": [
      "Output of Equation 6 is:[668911.98071981 668913.77247928 668912.38618492 668912.38618492\n",
      " 668911.69303774]\n"
     ]
    }
   ],
   "source": [
    "# EVALUATING EQUATION 6\n",
    "np.random.seed(0)\n",
    "def compute(values):\n",
    "    output = np.empty(len(values))\n",
    "    for i in range(len(values)):\n",
    "        output[i] = 1.0 / values[i]\n",
    "    return output\n",
    "        \n",
    "values = np.random.randint(1, 10, size=5)\n",
    "out = compute(values)\n",
    "for p in range(2):\n",
    "    var6 = np.log(out)\n",
    "tou = 1000\n",
    "for j in range(p):\n",
    "    Z = 1-(np.exp(phai/tou))\n",
    "    var61 = lambda2*Z\n",
    "for q in range(2):\n",
    "    phai = M[q]*B[q]/sigma\n",
    "    var62 = lambda1*phai\n",
    "for q in range(Q):\n",
    "    l = M[q]*g*h*sigma*(np.multiply(B[q],X.transpose())+B[q])\n",
    "var63 = np.sum(l)\n",
    "val_6 = var6+var61+var62+var63\n",
    "print(\"Output of Equation 6 is:{}\".format(val_6))"
   ]
  },
  {
   "cell_type": "code",
   "execution_count": 9,
   "metadata": {},
   "outputs": [
    {
     "name": "stdout",
     "output_type": "stream",
     "text": [
      "Output of Equation 7 is:[136154.8274486 157870.0274486 168353.2274486 140273.2274486\n",
      " 157495.6274486 143268.4274486 151130.8274486 153377.2274486]\n"
     ]
    }
   ],
   "source": [
    "# EVALUATING EQUATION 7\n",
    "\n",
    "for p in range(2):\n",
    "    func = ((p1*var-np.multiply(B[q],X.transpose()))*(-0.5))**2\n",
    "    i = M[q]*p*func/(1.414*3.14)\n",
    "I=np.sum(i)\n",
    "I = np.log(I)\n",
    "for i in range(n):\n",
    "    I+=l\n",
    "I = (np.sum(I))/n\n",
    "for q in range(2):\n",
    "    phai = M[q]*B[q]/sigma\n",
    "    var1 = lambda1*phai\n",
    "for q in range(p):\n",
    "    I+=l\n",
    "var7 = lambda1*I\n",
    "out_7 = var1+var7\n",
    "print(\"Output of Equation 7 is:{}\".format(out_7))"
   ]
  },
  {
   "cell_type": "code",
   "execution_count": null,
   "metadata": {},
   "outputs": [],
   "source": []
  }
 ],
 "metadata": {
  "kernelspec": {
   "display_name": "Python 3",
   "language": "python",
   "name": "python3"
  },
  "language_info": {
   "codemirror_mode": {
    "name": "ipython",
    "version": 3
   },
   "file_extension": ".py",
   "mimetype": "text/x-python",
   "name": "python",
   "nbconvert_exporter": "python",
   "pygments_lexer": "ipython3",
   "version": "3.7.4"
  }
 },
 "nbformat": 4,
 "nbformat_minor": 2
}
